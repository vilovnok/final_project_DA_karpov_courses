{
 "cells": [
  {
   "cell_type": "markdown",
   "metadata": {},
   "source": [
    "# Дипломный проект. Вариант 1\n",
    "## Задание 1. Retention – один из самых важных показателей в компании. Ваша задача – написать функцию, которая будет считать retention игроков (по дням от даты регистрации игрока)\n",
    "Для начала импортируем библиотеку пандас, библиотеки для отображения графиков"
   ]
  },
  {
   "cell_type": "code",
   "execution_count": 1,
   "metadata": {},
   "outputs": [],
   "source": [
    "import pandas as pd\n",
    "import seaborn as sns\n",
    "import matplotlib.pyplot as plt"
   ]
  },
  {
   "cell_type": "markdown",
   "metadata": {},
   "source": [
    "Создадим переменные с путями к файлам с данными"
   ]
  },
  {
   "cell_type": "code",
   "execution_count": 2,
   "metadata": {},
   "outputs": [],
   "source": [
    "file_auth = \"problem1-auth_data.zip\"\n",
    "file_reg = \"problem1-reg_data.csv\""
   ]
  },
  {
   "cell_type": "markdown",
   "metadata": {},
   "source": [
    "Прочитаем файлы с данными и запишем их в соответствующие датафреймы"
   ]
  },
  {
   "cell_type": "code",
   "execution_count": 3,
   "metadata": {},
   "outputs": [],
   "source": [
    "df_auth = pd.read_csv(file_auth, sep=';')\n",
    "df_reg = pd.read_csv(file_reg, sep=';')"
   ]
  },
  {
   "cell_type": "markdown",
   "metadata": {},
   "source": [
    "Посмотрим на датафреймы, убедимся что все считалось верно"
   ]
  },
  {
   "cell_type": "code",
   "execution_count": 4,
   "metadata": {},
   "outputs": [
    {
     "data": {
      "text/html": [
       "<div>\n",
       "<style scoped>\n",
       "    .dataframe tbody tr th:only-of-type {\n",
       "        vertical-align: middle;\n",
       "    }\n",
       "\n",
       "    .dataframe tbody tr th {\n",
       "        vertical-align: top;\n",
       "    }\n",
       "\n",
       "    .dataframe thead th {\n",
       "        text-align: right;\n",
       "    }\n",
       "</style>\n",
       "<table border=\"1\" class=\"dataframe\">\n",
       "  <thead>\n",
       "    <tr style=\"text-align: right;\">\n",
       "      <th></th>\n",
       "      <th>auth_ts</th>\n",
       "      <th>uid</th>\n",
       "    </tr>\n",
       "  </thead>\n",
       "  <tbody>\n",
       "    <tr>\n",
       "      <th>0</th>\n",
       "      <td>911382223</td>\n",
       "      <td>1</td>\n",
       "    </tr>\n",
       "    <tr>\n",
       "      <th>1</th>\n",
       "      <td>932683089</td>\n",
       "      <td>2</td>\n",
       "    </tr>\n",
       "    <tr>\n",
       "      <th>2</th>\n",
       "      <td>932921206</td>\n",
       "      <td>2</td>\n",
       "    </tr>\n",
       "    <tr>\n",
       "      <th>3</th>\n",
       "      <td>933393015</td>\n",
       "      <td>2</td>\n",
       "    </tr>\n",
       "    <tr>\n",
       "      <th>4</th>\n",
       "      <td>933875379</td>\n",
       "      <td>2</td>\n",
       "    </tr>\n",
       "  </tbody>\n",
       "</table>\n",
       "</div>"
      ],
      "text/plain": [
       "     auth_ts  uid\n",
       "0  911382223    1\n",
       "1  932683089    2\n",
       "2  932921206    2\n",
       "3  933393015    2\n",
       "4  933875379    2"
      ]
     },
     "execution_count": 4,
     "metadata": {},
     "output_type": "execute_result"
    }
   ],
   "source": [
    "df_auth.head()"
   ]
  },
  {
   "cell_type": "code",
   "execution_count": 5,
   "metadata": {},
   "outputs": [
    {
     "data": {
      "text/html": [
       "<div>\n",
       "<style scoped>\n",
       "    .dataframe tbody tr th:only-of-type {\n",
       "        vertical-align: middle;\n",
       "    }\n",
       "\n",
       "    .dataframe tbody tr th {\n",
       "        vertical-align: top;\n",
       "    }\n",
       "\n",
       "    .dataframe thead th {\n",
       "        text-align: right;\n",
       "    }\n",
       "</style>\n",
       "<table border=\"1\" class=\"dataframe\">\n",
       "  <thead>\n",
       "    <tr style=\"text-align: right;\">\n",
       "      <th></th>\n",
       "      <th>reg_ts</th>\n",
       "      <th>uid</th>\n",
       "    </tr>\n",
       "  </thead>\n",
       "  <tbody>\n",
       "    <tr>\n",
       "      <th>0</th>\n",
       "      <td>911382223</td>\n",
       "      <td>1</td>\n",
       "    </tr>\n",
       "    <tr>\n",
       "      <th>1</th>\n",
       "      <td>932683089</td>\n",
       "      <td>2</td>\n",
       "    </tr>\n",
       "    <tr>\n",
       "      <th>2</th>\n",
       "      <td>947802447</td>\n",
       "      <td>3</td>\n",
       "    </tr>\n",
       "    <tr>\n",
       "      <th>3</th>\n",
       "      <td>959523541</td>\n",
       "      <td>4</td>\n",
       "    </tr>\n",
       "    <tr>\n",
       "      <th>4</th>\n",
       "      <td>969103313</td>\n",
       "      <td>5</td>\n",
       "    </tr>\n",
       "  </tbody>\n",
       "</table>\n",
       "</div>"
      ],
      "text/plain": [
       "      reg_ts  uid\n",
       "0  911382223    1\n",
       "1  932683089    2\n",
       "2  947802447    3\n",
       "3  959523541    4\n",
       "4  969103313    5"
      ]
     },
     "execution_count": 5,
     "metadata": {},
     "output_type": "execute_result"
    }
   ],
   "source": [
    "df_reg.head()"
   ]
  },
  {
   "cell_type": "markdown",
   "metadata": {},
   "source": [
    "Размер датафреймов"
   ]
  },
  {
   "cell_type": "code",
   "execution_count": 6,
   "metadata": {},
   "outputs": [
    {
     "data": {
      "text/plain": [
       "(9601013, 2)"
      ]
     },
     "execution_count": 6,
     "metadata": {},
     "output_type": "execute_result"
    }
   ],
   "source": [
    "df_auth.shape"
   ]
  },
  {
   "cell_type": "code",
   "execution_count": 7,
   "metadata": {},
   "outputs": [
    {
     "data": {
      "text/plain": [
       "(1000000, 2)"
      ]
     },
     "execution_count": 7,
     "metadata": {},
     "output_type": "execute_result"
    }
   ],
   "source": [
    "df_reg.shape"
   ]
  },
  {
   "cell_type": "markdown",
   "metadata": {},
   "source": [
    "Посмотрим на количество уникальных uid пользователей в датафреймах"
   ]
  },
  {
   "cell_type": "code",
   "execution_count": 8,
   "metadata": {},
   "outputs": [
    {
     "data": {
      "text/plain": [
       "1000000"
      ]
     },
     "execution_count": 8,
     "metadata": {},
     "output_type": "execute_result"
    }
   ],
   "source": [
    "df_auth.uid.nunique()"
   ]
  },
  {
   "cell_type": "code",
   "execution_count": 9,
   "metadata": {},
   "outputs": [
    {
     "data": {
      "text/plain": [
       "1000000"
      ]
     },
     "execution_count": 9,
     "metadata": {},
     "output_type": "execute_result"
    }
   ],
   "source": [
    "df_reg.uid.nunique()"
   ]
  },
  {
   "cell_type": "markdown",
   "metadata": {},
   "source": [
    "Можно сделать вывод что в датафрейме с данными о регистрации нет повторяющихся uid\n",
    "\n",
    "Посмотрим на типы данных, чтобы убедится что все считалось верно"
   ]
  },
  {
   "cell_type": "code",
   "execution_count": 10,
   "metadata": {},
   "outputs": [
    {
     "data": {
      "text/plain": [
       "auth_ts    int64\n",
       "uid        int64\n",
       "dtype: object"
      ]
     },
     "execution_count": 10,
     "metadata": {},
     "output_type": "execute_result"
    }
   ],
   "source": [
    "df_auth.dtypes"
   ]
  },
  {
   "cell_type": "code",
   "execution_count": 11,
   "metadata": {},
   "outputs": [
    {
     "data": {
      "text/plain": [
       "reg_ts    int64\n",
       "uid       int64\n",
       "dtype: object"
      ]
     },
     "execution_count": 11,
     "metadata": {},
     "output_type": "execute_result"
    }
   ],
   "source": [
    "df_reg.dtypes"
   ]
  },
  {
   "cell_type": "markdown",
   "metadata": {},
   "source": [
    "Создадим функцию для расчета retention. На вход она будет принимать следующие параметры: 2 датафрейма - с авторизацией и регистрацией игроков, дату, от которой будет начинаться расчет, дату окончания расчетов.\n",
    "Возвращать функция будет датафрейм с посчитаным retention.\n",
    "Для начала напишем и проверим шаги, а потом соберем их в одну функцию"
   ]
  },
  {
   "cell_type": "markdown",
   "metadata": {},
   "source": [
    "Совмещаем датафреймы с аутентификацией и регистрацией. В данном примере первая аутентификация пользователя совпадает со временем регистрации, но такое может быть не всегда и не везде"
   ]
  },
  {
   "cell_type": "code",
   "execution_count": 12,
   "metadata": {},
   "outputs": [
    {
     "data": {
      "text/html": [
       "<div>\n",
       "<style scoped>\n",
       "    .dataframe tbody tr th:only-of-type {\n",
       "        vertical-align: middle;\n",
       "    }\n",
       "\n",
       "    .dataframe tbody tr th {\n",
       "        vertical-align: top;\n",
       "    }\n",
       "\n",
       "    .dataframe thead th {\n",
       "        text-align: right;\n",
       "    }\n",
       "</style>\n",
       "<table border=\"1\" class=\"dataframe\">\n",
       "  <thead>\n",
       "    <tr style=\"text-align: right;\">\n",
       "      <th></th>\n",
       "      <th>auth_ts</th>\n",
       "      <th>uid</th>\n",
       "      <th>reg_ts</th>\n",
       "    </tr>\n",
       "  </thead>\n",
       "  <tbody>\n",
       "    <tr>\n",
       "      <th>0</th>\n",
       "      <td>911382223</td>\n",
       "      <td>1</td>\n",
       "      <td>911382223</td>\n",
       "    </tr>\n",
       "    <tr>\n",
       "      <th>1</th>\n",
       "      <td>932683089</td>\n",
       "      <td>2</td>\n",
       "      <td>932683089</td>\n",
       "    </tr>\n",
       "    <tr>\n",
       "      <th>2</th>\n",
       "      <td>932921206</td>\n",
       "      <td>2</td>\n",
       "      <td>932683089</td>\n",
       "    </tr>\n",
       "    <tr>\n",
       "      <th>3</th>\n",
       "      <td>933393015</td>\n",
       "      <td>2</td>\n",
       "      <td>932683089</td>\n",
       "    </tr>\n",
       "    <tr>\n",
       "      <th>4</th>\n",
       "      <td>933875379</td>\n",
       "      <td>2</td>\n",
       "      <td>932683089</td>\n",
       "    </tr>\n",
       "  </tbody>\n",
       "</table>\n",
       "</div>"
      ],
      "text/plain": [
       "     auth_ts  uid     reg_ts\n",
       "0  911382223    1  911382223\n",
       "1  932683089    2  932683089\n",
       "2  932921206    2  932683089\n",
       "3  933393015    2  932683089\n",
       "4  933875379    2  932683089"
      ]
     },
     "execution_count": 12,
     "metadata": {},
     "output_type": "execute_result"
    }
   ],
   "source": [
    "df_ret = df_auth.merge(df_reg, how='left', on='uid')\n",
    "df_ret.head()"
   ]
  },
  {
   "cell_type": "markdown",
   "metadata": {},
   "source": [
    "Приводим колонки с датой из юникс формата в формат год-месяц-день"
   ]
  },
  {
   "cell_type": "code",
   "execution_count": 13,
   "metadata": {},
   "outputs": [
    {
     "data": {
      "text/plain": [
       "auth_ts    datetime64[ns]\n",
       "uid                 int64\n",
       "reg_ts     datetime64[ns]\n",
       "dtype: object"
      ]
     },
     "execution_count": 13,
     "metadata": {},
     "output_type": "execute_result"
    }
   ],
   "source": [
    "df_ret['reg_ts'] = pd.to_datetime(pd.to_datetime(df_ret.reg_ts, unit='s').dt.date)\n",
    "df_ret['auth_ts'] = pd.to_datetime(pd.to_datetime(df_ret.auth_ts, unit='s').dt.date)\n",
    "df_ret.dtypes"
   ]
  },
  {
   "cell_type": "markdown",
   "metadata": {},
   "source": [
    "Оставляем записи с регистрацией от нужной даты и записи с аутентификацией до нужной даты. В функции на месте дат будут переменные с датой"
   ]
  },
  {
   "cell_type": "code",
   "execution_count": 14,
   "metadata": {},
   "outputs": [],
   "source": [
    "df_ret = df_ret[(df_ret.reg_ts >= '2020-01-01') & (df_ret.auth_ts <= '2020-01-15')]"
   ]
  },
  {
   "cell_type": "markdown",
   "metadata": {},
   "source": [
    "Создаем колонку с количеством дней между авторизацией и датой регистрации"
   ]
  },
  {
   "cell_type": "code",
   "execution_count": 15,
   "metadata": {},
   "outputs": [
    {
     "data": {
      "text/html": [
       "<div>\n",
       "<style scoped>\n",
       "    .dataframe tbody tr th:only-of-type {\n",
       "        vertical-align: middle;\n",
       "    }\n",
       "\n",
       "    .dataframe tbody tr th {\n",
       "        vertical-align: top;\n",
       "    }\n",
       "\n",
       "    .dataframe thead th {\n",
       "        text-align: right;\n",
       "    }\n",
       "</style>\n",
       "<table border=\"1\" class=\"dataframe\">\n",
       "  <thead>\n",
       "    <tr style=\"text-align: right;\">\n",
       "      <th></th>\n",
       "      <th>auth_ts</th>\n",
       "      <th>uid</th>\n",
       "      <th>reg_ts</th>\n",
       "      <th>day</th>\n",
       "    </tr>\n",
       "  </thead>\n",
       "  <tbody>\n",
       "    <tr>\n",
       "      <th>6183545</th>\n",
       "      <td>2020-01-01</td>\n",
       "      <td>716362</td>\n",
       "      <td>2020-01-01</td>\n",
       "      <td>0</td>\n",
       "    </tr>\n",
       "    <tr>\n",
       "      <th>6183553</th>\n",
       "      <td>2020-01-01</td>\n",
       "      <td>716364</td>\n",
       "      <td>2020-01-01</td>\n",
       "      <td>0</td>\n",
       "    </tr>\n",
       "    <tr>\n",
       "      <th>6183560</th>\n",
       "      <td>2020-01-01</td>\n",
       "      <td>716365</td>\n",
       "      <td>2020-01-01</td>\n",
       "      <td>0</td>\n",
       "    </tr>\n",
       "    <tr>\n",
       "      <th>6183566</th>\n",
       "      <td>2020-01-01</td>\n",
       "      <td>716366</td>\n",
       "      <td>2020-01-01</td>\n",
       "      <td>0</td>\n",
       "    </tr>\n",
       "    <tr>\n",
       "      <th>6183574</th>\n",
       "      <td>2020-01-01</td>\n",
       "      <td>716367</td>\n",
       "      <td>2020-01-01</td>\n",
       "      <td>0</td>\n",
       "    </tr>\n",
       "    <tr>\n",
       "      <th>...</th>\n",
       "      <td>...</td>\n",
       "      <td>...</td>\n",
       "      <td>...</td>\n",
       "      <td>...</td>\n",
       "    </tr>\n",
       "    <tr>\n",
       "      <th>6338308</th>\n",
       "      <td>2020-01-15</td>\n",
       "      <td>732321</td>\n",
       "      <td>2020-01-14</td>\n",
       "      <td>1</td>\n",
       "    </tr>\n",
       "    <tr>\n",
       "      <th>6338311</th>\n",
       "      <td>2020-01-15</td>\n",
       "      <td>734256</td>\n",
       "      <td>2020-01-15</td>\n",
       "      <td>0</td>\n",
       "    </tr>\n",
       "    <tr>\n",
       "      <th>6338315</th>\n",
       "      <td>2020-01-15</td>\n",
       "      <td>718428</td>\n",
       "      <td>2020-01-02</td>\n",
       "      <td>13</td>\n",
       "    </tr>\n",
       "    <tr>\n",
       "      <th>6338319</th>\n",
       "      <td>2020-01-15</td>\n",
       "      <td>734258</td>\n",
       "      <td>2020-01-15</td>\n",
       "      <td>0</td>\n",
       "    </tr>\n",
       "    <tr>\n",
       "      <th>6338320</th>\n",
       "      <td>2020-01-15</td>\n",
       "      <td>726906</td>\n",
       "      <td>2020-01-09</td>\n",
       "      <td>6</td>\n",
       "    </tr>\n",
       "  </tbody>\n",
       "</table>\n",
       "<p>21460 rows × 4 columns</p>\n",
       "</div>"
      ],
      "text/plain": [
       "           auth_ts     uid     reg_ts  day\n",
       "6183545 2020-01-01  716362 2020-01-01    0\n",
       "6183553 2020-01-01  716364 2020-01-01    0\n",
       "6183560 2020-01-01  716365 2020-01-01    0\n",
       "6183566 2020-01-01  716366 2020-01-01    0\n",
       "6183574 2020-01-01  716367 2020-01-01    0\n",
       "...            ...     ...        ...  ...\n",
       "6338308 2020-01-15  732321 2020-01-14    1\n",
       "6338311 2020-01-15  734256 2020-01-15    0\n",
       "6338315 2020-01-15  718428 2020-01-02   13\n",
       "6338319 2020-01-15  734258 2020-01-15    0\n",
       "6338320 2020-01-15  726906 2020-01-09    6\n",
       "\n",
       "[21460 rows x 4 columns]"
      ]
     },
     "execution_count": 15,
     "metadata": {},
     "output_type": "execute_result"
    }
   ],
   "source": [
    "df_ret['day'] = (df_ret['auth_ts'] - df_ret['reg_ts']).dt.days\n",
    "df_ret"
   ]
  },
  {
   "cell_type": "markdown",
   "metadata": {},
   "source": [
    "Группируем датафрейм по датам регистрации и прошедшим дням с регистрации, считаем количество уникальных пользователей"
   ]
  },
  {
   "cell_type": "code",
   "execution_count": 16,
   "metadata": {},
   "outputs": [
    {
     "data": {
      "text/html": [
       "<div>\n",
       "<style scoped>\n",
       "    .dataframe tbody tr th:only-of-type {\n",
       "        vertical-align: middle;\n",
       "    }\n",
       "\n",
       "    .dataframe tbody tr th {\n",
       "        vertical-align: top;\n",
       "    }\n",
       "\n",
       "    .dataframe thead th {\n",
       "        text-align: right;\n",
       "    }\n",
       "</style>\n",
       "<table border=\"1\" class=\"dataframe\">\n",
       "  <thead>\n",
       "    <tr style=\"text-align: right;\">\n",
       "      <th></th>\n",
       "      <th>reg_ts</th>\n",
       "      <th>day</th>\n",
       "      <th>users</th>\n",
       "    </tr>\n",
       "  </thead>\n",
       "  <tbody>\n",
       "    <tr>\n",
       "      <th>0</th>\n",
       "      <td>2020-01-01</td>\n",
       "      <td>0</td>\n",
       "      <td>1061</td>\n",
       "    </tr>\n",
       "    <tr>\n",
       "      <th>1</th>\n",
       "      <td>2020-01-01</td>\n",
       "      <td>1</td>\n",
       "      <td>28</td>\n",
       "    </tr>\n",
       "    <tr>\n",
       "      <th>2</th>\n",
       "      <td>2020-01-01</td>\n",
       "      <td>2</td>\n",
       "      <td>48</td>\n",
       "    </tr>\n",
       "    <tr>\n",
       "      <th>3</th>\n",
       "      <td>2020-01-01</td>\n",
       "      <td>3</td>\n",
       "      <td>36</td>\n",
       "    </tr>\n",
       "    <tr>\n",
       "      <th>4</th>\n",
       "      <td>2020-01-01</td>\n",
       "      <td>4</td>\n",
       "      <td>60</td>\n",
       "    </tr>\n",
       "    <tr>\n",
       "      <th>...</th>\n",
       "      <td>...</td>\n",
       "      <td>...</td>\n",
       "      <td>...</td>\n",
       "    </tr>\n",
       "    <tr>\n",
       "      <th>115</th>\n",
       "      <td>2020-01-13</td>\n",
       "      <td>1</td>\n",
       "      <td>21</td>\n",
       "    </tr>\n",
       "    <tr>\n",
       "      <th>116</th>\n",
       "      <td>2020-01-13</td>\n",
       "      <td>2</td>\n",
       "      <td>48</td>\n",
       "    </tr>\n",
       "    <tr>\n",
       "      <th>117</th>\n",
       "      <td>2020-01-14</td>\n",
       "      <td>0</td>\n",
       "      <td>1084</td>\n",
       "    </tr>\n",
       "    <tr>\n",
       "      <th>118</th>\n",
       "      <td>2020-01-14</td>\n",
       "      <td>1</td>\n",
       "      <td>18</td>\n",
       "    </tr>\n",
       "    <tr>\n",
       "      <th>119</th>\n",
       "      <td>2020-01-15</td>\n",
       "      <td>0</td>\n",
       "      <td>1086</td>\n",
       "    </tr>\n",
       "  </tbody>\n",
       "</table>\n",
       "<p>120 rows × 3 columns</p>\n",
       "</div>"
      ],
      "text/plain": [
       "        reg_ts  day  users\n",
       "0   2020-01-01    0   1061\n",
       "1   2020-01-01    1     28\n",
       "2   2020-01-01    2     48\n",
       "3   2020-01-01    3     36\n",
       "4   2020-01-01    4     60\n",
       "..         ...  ...    ...\n",
       "115 2020-01-13    1     21\n",
       "116 2020-01-13    2     48\n",
       "117 2020-01-14    0   1084\n",
       "118 2020-01-14    1     18\n",
       "119 2020-01-15    0   1086\n",
       "\n",
       "[120 rows x 3 columns]"
      ]
     },
     "execution_count": 16,
     "metadata": {},
     "output_type": "execute_result"
    }
   ],
   "source": [
    "df_group = df_ret.groupby(['reg_ts', 'day']).agg(users=('uid', 'nunique')).reset_index()\n",
    "df_group"
   ]
  },
  {
   "cell_type": "markdown",
   "metadata": {},
   "source": [
    "Создаем сводную таблицу: в качестве индекса будет дата регистрации, в качестве колонок - дни с момента регистрации, в качестве значений - количество пользователей"
   ]
  },
  {
   "cell_type": "code",
   "execution_count": 17,
   "metadata": {},
   "outputs": [
    {
     "data": {
      "text/html": [
       "<div>\n",
       "<style scoped>\n",
       "    .dataframe tbody tr th:only-of-type {\n",
       "        vertical-align: middle;\n",
       "    }\n",
       "\n",
       "    .dataframe tbody tr th {\n",
       "        vertical-align: top;\n",
       "    }\n",
       "\n",
       "    .dataframe thead th {\n",
       "        text-align: right;\n",
       "    }\n",
       "</style>\n",
       "<table border=\"1\" class=\"dataframe\">\n",
       "  <thead>\n",
       "    <tr style=\"text-align: right;\">\n",
       "      <th>day</th>\n",
       "      <th>0</th>\n",
       "      <th>1</th>\n",
       "      <th>2</th>\n",
       "      <th>3</th>\n",
       "      <th>4</th>\n",
       "      <th>5</th>\n",
       "      <th>6</th>\n",
       "      <th>7</th>\n",
       "      <th>8</th>\n",
       "      <th>9</th>\n",
       "      <th>10</th>\n",
       "      <th>11</th>\n",
       "      <th>12</th>\n",
       "      <th>13</th>\n",
       "      <th>14</th>\n",
       "    </tr>\n",
       "    <tr>\n",
       "      <th>reg_ts</th>\n",
       "      <th></th>\n",
       "      <th></th>\n",
       "      <th></th>\n",
       "      <th></th>\n",
       "      <th></th>\n",
       "      <th></th>\n",
       "      <th></th>\n",
       "      <th></th>\n",
       "      <th></th>\n",
       "      <th></th>\n",
       "      <th></th>\n",
       "      <th></th>\n",
       "      <th></th>\n",
       "      <th></th>\n",
       "      <th></th>\n",
       "    </tr>\n",
       "  </thead>\n",
       "  <tbody>\n",
       "    <tr>\n",
       "      <th>2020-01-01</th>\n",
       "      <td>1061.0</td>\n",
       "      <td>28.0</td>\n",
       "      <td>48.0</td>\n",
       "      <td>36.0</td>\n",
       "      <td>60.0</td>\n",
       "      <td>62.0</td>\n",
       "      <td>80.0</td>\n",
       "      <td>53.0</td>\n",
       "      <td>47.0</td>\n",
       "      <td>47.0</td>\n",
       "      <td>57.0</td>\n",
       "      <td>69.0</td>\n",
       "      <td>49.0</td>\n",
       "      <td>52.0</td>\n",
       "      <td>51.0</td>\n",
       "    </tr>\n",
       "    <tr>\n",
       "      <th>2020-01-02</th>\n",
       "      <td>1063.0</td>\n",
       "      <td>25.0</td>\n",
       "      <td>48.0</td>\n",
       "      <td>55.0</td>\n",
       "      <td>51.0</td>\n",
       "      <td>62.0</td>\n",
       "      <td>82.0</td>\n",
       "      <td>63.0</td>\n",
       "      <td>60.0</td>\n",
       "      <td>56.0</td>\n",
       "      <td>60.0</td>\n",
       "      <td>60.0</td>\n",
       "      <td>48.0</td>\n",
       "      <td>48.0</td>\n",
       "      <td>NaN</td>\n",
       "    </tr>\n",
       "    <tr>\n",
       "      <th>2020-01-03</th>\n",
       "      <td>1065.0</td>\n",
       "      <td>25.0</td>\n",
       "      <td>36.0</td>\n",
       "      <td>47.0</td>\n",
       "      <td>48.0</td>\n",
       "      <td>73.0</td>\n",
       "      <td>80.0</td>\n",
       "      <td>58.0</td>\n",
       "      <td>48.0</td>\n",
       "      <td>45.0</td>\n",
       "      <td>56.0</td>\n",
       "      <td>62.0</td>\n",
       "      <td>59.0</td>\n",
       "      <td>NaN</td>\n",
       "      <td>NaN</td>\n",
       "    </tr>\n",
       "    <tr>\n",
       "      <th>2020-01-04</th>\n",
       "      <td>1067.0</td>\n",
       "      <td>16.0</td>\n",
       "      <td>48.0</td>\n",
       "      <td>54.0</td>\n",
       "      <td>57.0</td>\n",
       "      <td>61.0</td>\n",
       "      <td>75.0</td>\n",
       "      <td>58.0</td>\n",
       "      <td>45.0</td>\n",
       "      <td>52.0</td>\n",
       "      <td>51.0</td>\n",
       "      <td>58.0</td>\n",
       "      <td>NaN</td>\n",
       "      <td>NaN</td>\n",
       "      <td>NaN</td>\n",
       "    </tr>\n",
       "    <tr>\n",
       "      <th>2020-01-05</th>\n",
       "      <td>1069.0</td>\n",
       "      <td>21.0</td>\n",
       "      <td>48.0</td>\n",
       "      <td>49.0</td>\n",
       "      <td>47.0</td>\n",
       "      <td>51.0</td>\n",
       "      <td>84.0</td>\n",
       "      <td>56.0</td>\n",
       "      <td>42.0</td>\n",
       "      <td>58.0</td>\n",
       "      <td>44.0</td>\n",
       "      <td>NaN</td>\n",
       "      <td>NaN</td>\n",
       "      <td>NaN</td>\n",
       "      <td>NaN</td>\n",
       "    </tr>\n",
       "    <tr>\n",
       "      <th>2020-01-06</th>\n",
       "      <td>1070.0</td>\n",
       "      <td>31.0</td>\n",
       "      <td>48.0</td>\n",
       "      <td>53.0</td>\n",
       "      <td>41.0</td>\n",
       "      <td>50.0</td>\n",
       "      <td>71.0</td>\n",
       "      <td>63.0</td>\n",
       "      <td>56.0</td>\n",
       "      <td>54.0</td>\n",
       "      <td>NaN</td>\n",
       "      <td>NaN</td>\n",
       "      <td>NaN</td>\n",
       "      <td>NaN</td>\n",
       "      <td>NaN</td>\n",
       "    </tr>\n",
       "    <tr>\n",
       "      <th>2020-01-07</th>\n",
       "      <td>1072.0</td>\n",
       "      <td>20.0</td>\n",
       "      <td>52.0</td>\n",
       "      <td>47.0</td>\n",
       "      <td>69.0</td>\n",
       "      <td>54.0</td>\n",
       "      <td>91.0</td>\n",
       "      <td>55.0</td>\n",
       "      <td>61.0</td>\n",
       "      <td>NaN</td>\n",
       "      <td>NaN</td>\n",
       "      <td>NaN</td>\n",
       "      <td>NaN</td>\n",
       "      <td>NaN</td>\n",
       "      <td>NaN</td>\n",
       "    </tr>\n",
       "    <tr>\n",
       "      <th>2020-01-08</th>\n",
       "      <td>1074.0</td>\n",
       "      <td>24.0</td>\n",
       "      <td>43.0</td>\n",
       "      <td>46.0</td>\n",
       "      <td>55.0</td>\n",
       "      <td>54.0</td>\n",
       "      <td>91.0</td>\n",
       "      <td>54.0</td>\n",
       "      <td>NaN</td>\n",
       "      <td>NaN</td>\n",
       "      <td>NaN</td>\n",
       "      <td>NaN</td>\n",
       "      <td>NaN</td>\n",
       "      <td>NaN</td>\n",
       "      <td>NaN</td>\n",
       "    </tr>\n",
       "    <tr>\n",
       "      <th>2020-01-09</th>\n",
       "      <td>1076.0</td>\n",
       "      <td>20.0</td>\n",
       "      <td>43.0</td>\n",
       "      <td>59.0</td>\n",
       "      <td>48.0</td>\n",
       "      <td>65.0</td>\n",
       "      <td>72.0</td>\n",
       "      <td>NaN</td>\n",
       "      <td>NaN</td>\n",
       "      <td>NaN</td>\n",
       "      <td>NaN</td>\n",
       "      <td>NaN</td>\n",
       "      <td>NaN</td>\n",
       "      <td>NaN</td>\n",
       "      <td>NaN</td>\n",
       "    </tr>\n",
       "    <tr>\n",
       "      <th>2020-01-10</th>\n",
       "      <td>1077.0</td>\n",
       "      <td>21.0</td>\n",
       "      <td>40.0</td>\n",
       "      <td>55.0</td>\n",
       "      <td>46.0</td>\n",
       "      <td>64.0</td>\n",
       "      <td>NaN</td>\n",
       "      <td>NaN</td>\n",
       "      <td>NaN</td>\n",
       "      <td>NaN</td>\n",
       "      <td>NaN</td>\n",
       "      <td>NaN</td>\n",
       "      <td>NaN</td>\n",
       "      <td>NaN</td>\n",
       "      <td>NaN</td>\n",
       "    </tr>\n",
       "    <tr>\n",
       "      <th>2020-01-11</th>\n",
       "      <td>1079.0</td>\n",
       "      <td>17.0</td>\n",
       "      <td>42.0</td>\n",
       "      <td>55.0</td>\n",
       "      <td>54.0</td>\n",
       "      <td>NaN</td>\n",
       "      <td>NaN</td>\n",
       "      <td>NaN</td>\n",
       "      <td>NaN</td>\n",
       "      <td>NaN</td>\n",
       "      <td>NaN</td>\n",
       "      <td>NaN</td>\n",
       "      <td>NaN</td>\n",
       "      <td>NaN</td>\n",
       "      <td>NaN</td>\n",
       "    </tr>\n",
       "    <tr>\n",
       "      <th>2020-01-12</th>\n",
       "      <td>1081.0</td>\n",
       "      <td>20.0</td>\n",
       "      <td>49.0</td>\n",
       "      <td>44.0</td>\n",
       "      <td>NaN</td>\n",
       "      <td>NaN</td>\n",
       "      <td>NaN</td>\n",
       "      <td>NaN</td>\n",
       "      <td>NaN</td>\n",
       "      <td>NaN</td>\n",
       "      <td>NaN</td>\n",
       "      <td>NaN</td>\n",
       "      <td>NaN</td>\n",
       "      <td>NaN</td>\n",
       "      <td>NaN</td>\n",
       "    </tr>\n",
       "    <tr>\n",
       "      <th>2020-01-13</th>\n",
       "      <td>1083.0</td>\n",
       "      <td>21.0</td>\n",
       "      <td>48.0</td>\n",
       "      <td>NaN</td>\n",
       "      <td>NaN</td>\n",
       "      <td>NaN</td>\n",
       "      <td>NaN</td>\n",
       "      <td>NaN</td>\n",
       "      <td>NaN</td>\n",
       "      <td>NaN</td>\n",
       "      <td>NaN</td>\n",
       "      <td>NaN</td>\n",
       "      <td>NaN</td>\n",
       "      <td>NaN</td>\n",
       "      <td>NaN</td>\n",
       "    </tr>\n",
       "    <tr>\n",
       "      <th>2020-01-14</th>\n",
       "      <td>1084.0</td>\n",
       "      <td>18.0</td>\n",
       "      <td>NaN</td>\n",
       "      <td>NaN</td>\n",
       "      <td>NaN</td>\n",
       "      <td>NaN</td>\n",
       "      <td>NaN</td>\n",
       "      <td>NaN</td>\n",
       "      <td>NaN</td>\n",
       "      <td>NaN</td>\n",
       "      <td>NaN</td>\n",
       "      <td>NaN</td>\n",
       "      <td>NaN</td>\n",
       "      <td>NaN</td>\n",
       "      <td>NaN</td>\n",
       "    </tr>\n",
       "    <tr>\n",
       "      <th>2020-01-15</th>\n",
       "      <td>1086.0</td>\n",
       "      <td>NaN</td>\n",
       "      <td>NaN</td>\n",
       "      <td>NaN</td>\n",
       "      <td>NaN</td>\n",
       "      <td>NaN</td>\n",
       "      <td>NaN</td>\n",
       "      <td>NaN</td>\n",
       "      <td>NaN</td>\n",
       "      <td>NaN</td>\n",
       "      <td>NaN</td>\n",
       "      <td>NaN</td>\n",
       "      <td>NaN</td>\n",
       "      <td>NaN</td>\n",
       "      <td>NaN</td>\n",
       "    </tr>\n",
       "  </tbody>\n",
       "</table>\n",
       "</div>"
      ],
      "text/plain": [
       "day             0     1     2     3     4     5     6     7     8     9   \\\n",
       "reg_ts                                                                     \n",
       "2020-01-01  1061.0  28.0  48.0  36.0  60.0  62.0  80.0  53.0  47.0  47.0   \n",
       "2020-01-02  1063.0  25.0  48.0  55.0  51.0  62.0  82.0  63.0  60.0  56.0   \n",
       "2020-01-03  1065.0  25.0  36.0  47.0  48.0  73.0  80.0  58.0  48.0  45.0   \n",
       "2020-01-04  1067.0  16.0  48.0  54.0  57.0  61.0  75.0  58.0  45.0  52.0   \n",
       "2020-01-05  1069.0  21.0  48.0  49.0  47.0  51.0  84.0  56.0  42.0  58.0   \n",
       "2020-01-06  1070.0  31.0  48.0  53.0  41.0  50.0  71.0  63.0  56.0  54.0   \n",
       "2020-01-07  1072.0  20.0  52.0  47.0  69.0  54.0  91.0  55.0  61.0   NaN   \n",
       "2020-01-08  1074.0  24.0  43.0  46.0  55.0  54.0  91.0  54.0   NaN   NaN   \n",
       "2020-01-09  1076.0  20.0  43.0  59.0  48.0  65.0  72.0   NaN   NaN   NaN   \n",
       "2020-01-10  1077.0  21.0  40.0  55.0  46.0  64.0   NaN   NaN   NaN   NaN   \n",
       "2020-01-11  1079.0  17.0  42.0  55.0  54.0   NaN   NaN   NaN   NaN   NaN   \n",
       "2020-01-12  1081.0  20.0  49.0  44.0   NaN   NaN   NaN   NaN   NaN   NaN   \n",
       "2020-01-13  1083.0  21.0  48.0   NaN   NaN   NaN   NaN   NaN   NaN   NaN   \n",
       "2020-01-14  1084.0  18.0   NaN   NaN   NaN   NaN   NaN   NaN   NaN   NaN   \n",
       "2020-01-15  1086.0   NaN   NaN   NaN   NaN   NaN   NaN   NaN   NaN   NaN   \n",
       "\n",
       "day           10    11    12    13    14  \n",
       "reg_ts                                    \n",
       "2020-01-01  57.0  69.0  49.0  52.0  51.0  \n",
       "2020-01-02  60.0  60.0  48.0  48.0   NaN  \n",
       "2020-01-03  56.0  62.0  59.0   NaN   NaN  \n",
       "2020-01-04  51.0  58.0   NaN   NaN   NaN  \n",
       "2020-01-05  44.0   NaN   NaN   NaN   NaN  \n",
       "2020-01-06   NaN   NaN   NaN   NaN   NaN  \n",
       "2020-01-07   NaN   NaN   NaN   NaN   NaN  \n",
       "2020-01-08   NaN   NaN   NaN   NaN   NaN  \n",
       "2020-01-09   NaN   NaN   NaN   NaN   NaN  \n",
       "2020-01-10   NaN   NaN   NaN   NaN   NaN  \n",
       "2020-01-11   NaN   NaN   NaN   NaN   NaN  \n",
       "2020-01-12   NaN   NaN   NaN   NaN   NaN  \n",
       "2020-01-13   NaN   NaN   NaN   NaN   NaN  \n",
       "2020-01-14   NaN   NaN   NaN   NaN   NaN  \n",
       "2020-01-15   NaN   NaN   NaN   NaN   NaN  "
      ]
     },
     "execution_count": 17,
     "metadata": {},
     "output_type": "execute_result"
    }
   ],
   "source": [
    "pivot = df_group.pivot_table(index='reg_ts', columns='day', values='users')\n",
    "pivot"
   ]
  },
  {
   "cell_type": "markdown",
   "metadata": {},
   "source": [
    "Далее значения в таблице необходимо сделать относительными первой колонки. Для этого воспользуемся функцией divide, которая делит весь датафрейм на определенные значения. Будем делить поколоночно (axis=0) на первую колонку"
   ]
  },
  {
   "cell_type": "code",
   "execution_count": 18,
   "metadata": {},
   "outputs": [
    {
     "data": {
      "text/html": [
       "<div>\n",
       "<style scoped>\n",
       "    .dataframe tbody tr th:only-of-type {\n",
       "        vertical-align: middle;\n",
       "    }\n",
       "\n",
       "    .dataframe tbody tr th {\n",
       "        vertical-align: top;\n",
       "    }\n",
       "\n",
       "    .dataframe thead th {\n",
       "        text-align: right;\n",
       "    }\n",
       "</style>\n",
       "<table border=\"1\" class=\"dataframe\">\n",
       "  <thead>\n",
       "    <tr style=\"text-align: right;\">\n",
       "      <th>day</th>\n",
       "      <th>0</th>\n",
       "      <th>1</th>\n",
       "      <th>2</th>\n",
       "      <th>3</th>\n",
       "      <th>4</th>\n",
       "      <th>5</th>\n",
       "      <th>6</th>\n",
       "      <th>7</th>\n",
       "      <th>8</th>\n",
       "      <th>9</th>\n",
       "      <th>10</th>\n",
       "      <th>11</th>\n",
       "      <th>12</th>\n",
       "      <th>13</th>\n",
       "      <th>14</th>\n",
       "    </tr>\n",
       "    <tr>\n",
       "      <th>reg_ts</th>\n",
       "      <th></th>\n",
       "      <th></th>\n",
       "      <th></th>\n",
       "      <th></th>\n",
       "      <th></th>\n",
       "      <th></th>\n",
       "      <th></th>\n",
       "      <th></th>\n",
       "      <th></th>\n",
       "      <th></th>\n",
       "      <th></th>\n",
       "      <th></th>\n",
       "      <th></th>\n",
       "      <th></th>\n",
       "      <th></th>\n",
       "    </tr>\n",
       "  </thead>\n",
       "  <tbody>\n",
       "    <tr>\n",
       "      <th>2020-01-01</th>\n",
       "      <td>1.0</td>\n",
       "      <td>0.026390</td>\n",
       "      <td>0.045240</td>\n",
       "      <td>0.033930</td>\n",
       "      <td>0.056550</td>\n",
       "      <td>0.058435</td>\n",
       "      <td>0.075401</td>\n",
       "      <td>0.049953</td>\n",
       "      <td>0.044298</td>\n",
       "      <td>0.044298</td>\n",
       "      <td>0.053723</td>\n",
       "      <td>0.065033</td>\n",
       "      <td>0.046183</td>\n",
       "      <td>0.049010</td>\n",
       "      <td>0.048068</td>\n",
       "    </tr>\n",
       "    <tr>\n",
       "      <th>2020-01-02</th>\n",
       "      <td>1.0</td>\n",
       "      <td>0.023518</td>\n",
       "      <td>0.045155</td>\n",
       "      <td>0.051740</td>\n",
       "      <td>0.047977</td>\n",
       "      <td>0.058325</td>\n",
       "      <td>0.077140</td>\n",
       "      <td>0.059266</td>\n",
       "      <td>0.056444</td>\n",
       "      <td>0.052681</td>\n",
       "      <td>0.056444</td>\n",
       "      <td>0.056444</td>\n",
       "      <td>0.045155</td>\n",
       "      <td>0.045155</td>\n",
       "      <td>NaN</td>\n",
       "    </tr>\n",
       "    <tr>\n",
       "      <th>2020-01-03</th>\n",
       "      <td>1.0</td>\n",
       "      <td>0.023474</td>\n",
       "      <td>0.033803</td>\n",
       "      <td>0.044131</td>\n",
       "      <td>0.045070</td>\n",
       "      <td>0.068545</td>\n",
       "      <td>0.075117</td>\n",
       "      <td>0.054460</td>\n",
       "      <td>0.045070</td>\n",
       "      <td>0.042254</td>\n",
       "      <td>0.052582</td>\n",
       "      <td>0.058216</td>\n",
       "      <td>0.055399</td>\n",
       "      <td>NaN</td>\n",
       "      <td>NaN</td>\n",
       "    </tr>\n",
       "    <tr>\n",
       "      <th>2020-01-04</th>\n",
       "      <td>1.0</td>\n",
       "      <td>0.014995</td>\n",
       "      <td>0.044986</td>\n",
       "      <td>0.050609</td>\n",
       "      <td>0.053421</td>\n",
       "      <td>0.057170</td>\n",
       "      <td>0.070291</td>\n",
       "      <td>0.054358</td>\n",
       "      <td>0.042174</td>\n",
       "      <td>0.048735</td>\n",
       "      <td>0.047798</td>\n",
       "      <td>0.054358</td>\n",
       "      <td>NaN</td>\n",
       "      <td>NaN</td>\n",
       "      <td>NaN</td>\n",
       "    </tr>\n",
       "    <tr>\n",
       "      <th>2020-01-05</th>\n",
       "      <td>1.0</td>\n",
       "      <td>0.019645</td>\n",
       "      <td>0.044902</td>\n",
       "      <td>0.045837</td>\n",
       "      <td>0.043966</td>\n",
       "      <td>0.047708</td>\n",
       "      <td>0.078578</td>\n",
       "      <td>0.052385</td>\n",
       "      <td>0.039289</td>\n",
       "      <td>0.054256</td>\n",
       "      <td>0.041160</td>\n",
       "      <td>NaN</td>\n",
       "      <td>NaN</td>\n",
       "      <td>NaN</td>\n",
       "      <td>NaN</td>\n",
       "    </tr>\n",
       "    <tr>\n",
       "      <th>2020-01-06</th>\n",
       "      <td>1.0</td>\n",
       "      <td>0.028972</td>\n",
       "      <td>0.044860</td>\n",
       "      <td>0.049533</td>\n",
       "      <td>0.038318</td>\n",
       "      <td>0.046729</td>\n",
       "      <td>0.066355</td>\n",
       "      <td>0.058879</td>\n",
       "      <td>0.052336</td>\n",
       "      <td>0.050467</td>\n",
       "      <td>NaN</td>\n",
       "      <td>NaN</td>\n",
       "      <td>NaN</td>\n",
       "      <td>NaN</td>\n",
       "      <td>NaN</td>\n",
       "    </tr>\n",
       "    <tr>\n",
       "      <th>2020-01-07</th>\n",
       "      <td>1.0</td>\n",
       "      <td>0.018657</td>\n",
       "      <td>0.048507</td>\n",
       "      <td>0.043843</td>\n",
       "      <td>0.064366</td>\n",
       "      <td>0.050373</td>\n",
       "      <td>0.084888</td>\n",
       "      <td>0.051306</td>\n",
       "      <td>0.056903</td>\n",
       "      <td>NaN</td>\n",
       "      <td>NaN</td>\n",
       "      <td>NaN</td>\n",
       "      <td>NaN</td>\n",
       "      <td>NaN</td>\n",
       "      <td>NaN</td>\n",
       "    </tr>\n",
       "    <tr>\n",
       "      <th>2020-01-08</th>\n",
       "      <td>1.0</td>\n",
       "      <td>0.022346</td>\n",
       "      <td>0.040037</td>\n",
       "      <td>0.042831</td>\n",
       "      <td>0.051210</td>\n",
       "      <td>0.050279</td>\n",
       "      <td>0.084730</td>\n",
       "      <td>0.050279</td>\n",
       "      <td>NaN</td>\n",
       "      <td>NaN</td>\n",
       "      <td>NaN</td>\n",
       "      <td>NaN</td>\n",
       "      <td>NaN</td>\n",
       "      <td>NaN</td>\n",
       "      <td>NaN</td>\n",
       "    </tr>\n",
       "    <tr>\n",
       "      <th>2020-01-09</th>\n",
       "      <td>1.0</td>\n",
       "      <td>0.018587</td>\n",
       "      <td>0.039963</td>\n",
       "      <td>0.054833</td>\n",
       "      <td>0.044610</td>\n",
       "      <td>0.060409</td>\n",
       "      <td>0.066914</td>\n",
       "      <td>NaN</td>\n",
       "      <td>NaN</td>\n",
       "      <td>NaN</td>\n",
       "      <td>NaN</td>\n",
       "      <td>NaN</td>\n",
       "      <td>NaN</td>\n",
       "      <td>NaN</td>\n",
       "      <td>NaN</td>\n",
       "    </tr>\n",
       "    <tr>\n",
       "      <th>2020-01-10</th>\n",
       "      <td>1.0</td>\n",
       "      <td>0.019499</td>\n",
       "      <td>0.037140</td>\n",
       "      <td>0.051068</td>\n",
       "      <td>0.042711</td>\n",
       "      <td>0.059424</td>\n",
       "      <td>NaN</td>\n",
       "      <td>NaN</td>\n",
       "      <td>NaN</td>\n",
       "      <td>NaN</td>\n",
       "      <td>NaN</td>\n",
       "      <td>NaN</td>\n",
       "      <td>NaN</td>\n",
       "      <td>NaN</td>\n",
       "      <td>NaN</td>\n",
       "    </tr>\n",
       "    <tr>\n",
       "      <th>2020-01-11</th>\n",
       "      <td>1.0</td>\n",
       "      <td>0.015755</td>\n",
       "      <td>0.038925</td>\n",
       "      <td>0.050973</td>\n",
       "      <td>0.050046</td>\n",
       "      <td>NaN</td>\n",
       "      <td>NaN</td>\n",
       "      <td>NaN</td>\n",
       "      <td>NaN</td>\n",
       "      <td>NaN</td>\n",
       "      <td>NaN</td>\n",
       "      <td>NaN</td>\n",
       "      <td>NaN</td>\n",
       "      <td>NaN</td>\n",
       "      <td>NaN</td>\n",
       "    </tr>\n",
       "    <tr>\n",
       "      <th>2020-01-12</th>\n",
       "      <td>1.0</td>\n",
       "      <td>0.018501</td>\n",
       "      <td>0.045328</td>\n",
       "      <td>0.040703</td>\n",
       "      <td>NaN</td>\n",
       "      <td>NaN</td>\n",
       "      <td>NaN</td>\n",
       "      <td>NaN</td>\n",
       "      <td>NaN</td>\n",
       "      <td>NaN</td>\n",
       "      <td>NaN</td>\n",
       "      <td>NaN</td>\n",
       "      <td>NaN</td>\n",
       "      <td>NaN</td>\n",
       "      <td>NaN</td>\n",
       "    </tr>\n",
       "    <tr>\n",
       "      <th>2020-01-13</th>\n",
       "      <td>1.0</td>\n",
       "      <td>0.019391</td>\n",
       "      <td>0.044321</td>\n",
       "      <td>NaN</td>\n",
       "      <td>NaN</td>\n",
       "      <td>NaN</td>\n",
       "      <td>NaN</td>\n",
       "      <td>NaN</td>\n",
       "      <td>NaN</td>\n",
       "      <td>NaN</td>\n",
       "      <td>NaN</td>\n",
       "      <td>NaN</td>\n",
       "      <td>NaN</td>\n",
       "      <td>NaN</td>\n",
       "      <td>NaN</td>\n",
       "    </tr>\n",
       "    <tr>\n",
       "      <th>2020-01-14</th>\n",
       "      <td>1.0</td>\n",
       "      <td>0.016605</td>\n",
       "      <td>NaN</td>\n",
       "      <td>NaN</td>\n",
       "      <td>NaN</td>\n",
       "      <td>NaN</td>\n",
       "      <td>NaN</td>\n",
       "      <td>NaN</td>\n",
       "      <td>NaN</td>\n",
       "      <td>NaN</td>\n",
       "      <td>NaN</td>\n",
       "      <td>NaN</td>\n",
       "      <td>NaN</td>\n",
       "      <td>NaN</td>\n",
       "      <td>NaN</td>\n",
       "    </tr>\n",
       "    <tr>\n",
       "      <th>2020-01-15</th>\n",
       "      <td>1.0</td>\n",
       "      <td>NaN</td>\n",
       "      <td>NaN</td>\n",
       "      <td>NaN</td>\n",
       "      <td>NaN</td>\n",
       "      <td>NaN</td>\n",
       "      <td>NaN</td>\n",
       "      <td>NaN</td>\n",
       "      <td>NaN</td>\n",
       "      <td>NaN</td>\n",
       "      <td>NaN</td>\n",
       "      <td>NaN</td>\n",
       "      <td>NaN</td>\n",
       "      <td>NaN</td>\n",
       "      <td>NaN</td>\n",
       "    </tr>\n",
       "  </tbody>\n",
       "</table>\n",
       "</div>"
      ],
      "text/plain": [
       "day          0         1         2         3         4         5         6   \\\n",
       "reg_ts                                                                        \n",
       "2020-01-01  1.0  0.026390  0.045240  0.033930  0.056550  0.058435  0.075401   \n",
       "2020-01-02  1.0  0.023518  0.045155  0.051740  0.047977  0.058325  0.077140   \n",
       "2020-01-03  1.0  0.023474  0.033803  0.044131  0.045070  0.068545  0.075117   \n",
       "2020-01-04  1.0  0.014995  0.044986  0.050609  0.053421  0.057170  0.070291   \n",
       "2020-01-05  1.0  0.019645  0.044902  0.045837  0.043966  0.047708  0.078578   \n",
       "2020-01-06  1.0  0.028972  0.044860  0.049533  0.038318  0.046729  0.066355   \n",
       "2020-01-07  1.0  0.018657  0.048507  0.043843  0.064366  0.050373  0.084888   \n",
       "2020-01-08  1.0  0.022346  0.040037  0.042831  0.051210  0.050279  0.084730   \n",
       "2020-01-09  1.0  0.018587  0.039963  0.054833  0.044610  0.060409  0.066914   \n",
       "2020-01-10  1.0  0.019499  0.037140  0.051068  0.042711  0.059424       NaN   \n",
       "2020-01-11  1.0  0.015755  0.038925  0.050973  0.050046       NaN       NaN   \n",
       "2020-01-12  1.0  0.018501  0.045328  0.040703       NaN       NaN       NaN   \n",
       "2020-01-13  1.0  0.019391  0.044321       NaN       NaN       NaN       NaN   \n",
       "2020-01-14  1.0  0.016605       NaN       NaN       NaN       NaN       NaN   \n",
       "2020-01-15  1.0       NaN       NaN       NaN       NaN       NaN       NaN   \n",
       "\n",
       "day               7         8         9         10        11        12  \\\n",
       "reg_ts                                                                   \n",
       "2020-01-01  0.049953  0.044298  0.044298  0.053723  0.065033  0.046183   \n",
       "2020-01-02  0.059266  0.056444  0.052681  0.056444  0.056444  0.045155   \n",
       "2020-01-03  0.054460  0.045070  0.042254  0.052582  0.058216  0.055399   \n",
       "2020-01-04  0.054358  0.042174  0.048735  0.047798  0.054358       NaN   \n",
       "2020-01-05  0.052385  0.039289  0.054256  0.041160       NaN       NaN   \n",
       "2020-01-06  0.058879  0.052336  0.050467       NaN       NaN       NaN   \n",
       "2020-01-07  0.051306  0.056903       NaN       NaN       NaN       NaN   \n",
       "2020-01-08  0.050279       NaN       NaN       NaN       NaN       NaN   \n",
       "2020-01-09       NaN       NaN       NaN       NaN       NaN       NaN   \n",
       "2020-01-10       NaN       NaN       NaN       NaN       NaN       NaN   \n",
       "2020-01-11       NaN       NaN       NaN       NaN       NaN       NaN   \n",
       "2020-01-12       NaN       NaN       NaN       NaN       NaN       NaN   \n",
       "2020-01-13       NaN       NaN       NaN       NaN       NaN       NaN   \n",
       "2020-01-14       NaN       NaN       NaN       NaN       NaN       NaN   \n",
       "2020-01-15       NaN       NaN       NaN       NaN       NaN       NaN   \n",
       "\n",
       "day               13        14  \n",
       "reg_ts                          \n",
       "2020-01-01  0.049010  0.048068  \n",
       "2020-01-02  0.045155       NaN  \n",
       "2020-01-03       NaN       NaN  \n",
       "2020-01-04       NaN       NaN  \n",
       "2020-01-05       NaN       NaN  \n",
       "2020-01-06       NaN       NaN  \n",
       "2020-01-07       NaN       NaN  \n",
       "2020-01-08       NaN       NaN  \n",
       "2020-01-09       NaN       NaN  \n",
       "2020-01-10       NaN       NaN  \n",
       "2020-01-11       NaN       NaN  \n",
       "2020-01-12       NaN       NaN  \n",
       "2020-01-13       NaN       NaN  \n",
       "2020-01-14       NaN       NaN  \n",
       "2020-01-15       NaN       NaN  "
      ]
     },
     "execution_count": 18,
     "metadata": {},
     "output_type": "execute_result"
    }
   ],
   "source": [
    "pivot = pivot.divide(pivot[0], axis=0)\n",
    "pivot"
   ]
  },
  {
   "cell_type": "markdown",
   "metadata": {},
   "source": [
    "Теперь отобразим тепловую карту на основе получившейся сводной таблицы"
   ]
  },
  {
   "cell_type": "code",
   "execution_count": 19,
   "metadata": {},
   "outputs": [
    {
     "data": {
      "text/plain": [
       "<matplotlib.axes._subplots.AxesSubplot at 0x7fdf3af6fb70>"
      ]
     },
     "execution_count": 19,
     "metadata": {},
     "output_type": "execute_result"
    },
    {
     "data": {
      "image/png": "[encoded data removed]",
      "text/plain": [
       "<Figure size 1152x648 with 2 Axes>"
      ]
     },
     "metadata": {
      "needs_background": "light"
     },
     "output_type": "display_data"
    }
   ],
   "source": [
    "plt.rcParams['figure.figsize'] = [16, 9]\n",
    "sns.heatmap(pivot, linewidth=.01, annot=True, fmt='.0%', vmin=0, vmax=0.07)"
   ]
  },
  {
   "cell_type": "markdown",
   "metadata": {},
   "source": [
    "Осталось объединить шаги и создать функцию"
   ]
  },
  {
   "cell_type": "code",
   "execution_count": 20,
   "metadata": {},
   "outputs": [],
   "source": [
    "def retention(df_auth, df_reg, start_date, end_date):\n",
    "    # совмещаем датафреймы с аутентификацией и регистрацией\n",
    "    df_ret = df_auth.merge(df_reg, how='left', on='uid')\n",
    "    \n",
    "    # приводим колонки с датой из юникс формата в формат год-месяц-день\n",
    "    df_ret['reg_ts'] = pd.to_datetime(pd.to_datetime(df_ret.reg_ts, unit='s').dt.date)\n",
    "    df_ret['auth_ts'] = pd.to_datetime(pd.to_datetime(df_ret.auth_ts, unit='s').dt.date)\n",
    "    \n",
    "    # выбираем только указанные даты\n",
    "    df_ret = df_ret[(df_ret.reg_ts >= start_date) & (df_ret.auth_ts <= end_date)]\n",
    "    \n",
    "    # создаем колонку с количеством дней между авторизацией и датой регистрации\n",
    "    df_ret['day'] = (df_ret['auth_ts'] - df_ret['reg_ts']).dt.days\n",
    "    \n",
    "    # группируем датафрейм\n",
    "    df_group = df_ret.groupby(['reg_ts', 'day']).agg(users=('uid', 'nunique')).reset_index()\n",
    "    \n",
    "    # создаем сводную таблицу\n",
    "    pivot = df_group.pivot_table(index='reg_ts', columns='day', values='users')\n",
    "    \n",
    "    # преобразуем значения в относительные\n",
    "    pivot = pivot.divide(pivot[0], axis=0)\n",
    "    \n",
    "    # рисуем тепловую карту\n",
    "    plt.rcParams['figure.figsize'] = [16, 9]\n",
    "    sns.heatmap(pivot, linewidth=.01, annot=True, fmt='.0%', vmin=0, vmax=0.07)\n",
    "    \n",
    "    # возвращаем датафрейм с retention\n",
    "    return pivot"
   ]
  },
  {
   "cell_type": "markdown",
   "metadata": {},
   "source": [
    "Применяем функцию на практике и смотрим получившийся фрейм с данными"
   ]
  },
  {
   "cell_type": "code",
   "execution_count": 21,
   "metadata": {},
   "outputs": [
    {
     "data": {
      "image/png": "[encoded data removed]",
      "text/plain": [
       "<Figure size 1152x648 with 2 Axes>"
      ]
     },
     "metadata": {
      "needs_background": "light"
     },
     "output_type": "display_data"
    }
   ],
   "source": [
    "test = retention(df_auth, df_reg, '2020-01-01', '2020-01-15')"
   ]
  },
  {
   "cell_type": "code",
   "execution_count": 22,
   "metadata": {},
   "outputs": [
    {
     "data": {
      "text/html": [
       "<div>\n",
       "<style scoped>\n",
       "    .dataframe tbody tr th:only-of-type {\n",
       "        vertical-align: middle;\n",
       "    }\n",
       "\n",
       "    .dataframe tbody tr th {\n",
       "        vertical-align: top;\n",
       "    }\n",
       "\n",
       "    .dataframe thead th {\n",
       "        text-align: right;\n",
       "    }\n",
       "</style>\n",
       "<table border=\"1\" class=\"dataframe\">\n",
       "  <thead>\n",
       "    <tr style=\"text-align: right;\">\n",
       "      <th>day</th>\n",
       "      <th>0</th>\n",
       "      <th>1</th>\n",
       "      <th>2</th>\n",
       "      <th>3</th>\n",
       "      <th>4</th>\n",
       "      <th>5</th>\n",
       "      <th>6</th>\n",
       "      <th>7</th>\n",
       "      <th>8</th>\n",
       "      <th>9</th>\n",
       "      <th>10</th>\n",
       "      <th>11</th>\n",
       "      <th>12</th>\n",
       "      <th>13</th>\n",
       "      <th>14</th>\n",
       "    </tr>\n",
       "    <tr>\n",
       "      <th>reg_ts</th>\n",
       "      <th></th>\n",
       "      <th></th>\n",
       "      <th></th>\n",
       "      <th></th>\n",
       "      <th></th>\n",
       "      <th></th>\n",
       "      <th></th>\n",
       "      <th></th>\n",
       "      <th></th>\n",
       "      <th></th>\n",
       "      <th></th>\n",
       "      <th></th>\n",
       "      <th></th>\n",
       "      <th></th>\n",
       "      <th></th>\n",
       "    </tr>\n",
       "  </thead>\n",
       "  <tbody>\n",
       "    <tr>\n",
       "      <th>2020-01-01</th>\n",
       "      <td>1.0</td>\n",
       "      <td>0.026390</td>\n",
       "      <td>0.045240</td>\n",
       "      <td>0.033930</td>\n",
       "      <td>0.056550</td>\n",
       "      <td>0.058435</td>\n",
       "      <td>0.075401</td>\n",
       "      <td>0.049953</td>\n",
       "      <td>0.044298</td>\n",
       "      <td>0.044298</td>\n",
       "      <td>0.053723</td>\n",
       "      <td>0.065033</td>\n",
       "      <td>0.046183</td>\n",
       "      <td>0.049010</td>\n",
       "      <td>0.048068</td>\n",
       "    </tr>\n",
       "    <tr>\n",
       "      <th>2020-01-02</th>\n",
       "      <td>1.0</td>\n",
       "      <td>0.023518</td>\n",
       "      <td>0.045155</td>\n",
       "      <td>0.051740</td>\n",
       "      <td>0.047977</td>\n",
       "      <td>0.058325</td>\n",
       "      <td>0.077140</td>\n",
       "      <td>0.059266</td>\n",
       "      <td>0.056444</td>\n",
       "      <td>0.052681</td>\n",
       "      <td>0.056444</td>\n",
       "      <td>0.056444</td>\n",
       "      <td>0.045155</td>\n",
       "      <td>0.045155</td>\n",
       "      <td>NaN</td>\n",
       "    </tr>\n",
       "    <tr>\n",
       "      <th>2020-01-03</th>\n",
       "      <td>1.0</td>\n",
       "      <td>0.023474</td>\n",
       "      <td>0.033803</td>\n",
       "      <td>0.044131</td>\n",
       "      <td>0.045070</td>\n",
       "      <td>0.068545</td>\n",
       "      <td>0.075117</td>\n",
       "      <td>0.054460</td>\n",
       "      <td>0.045070</td>\n",
       "      <td>0.042254</td>\n",
       "      <td>0.052582</td>\n",
       "      <td>0.058216</td>\n",
       "      <td>0.055399</td>\n",
       "      <td>NaN</td>\n",
       "      <td>NaN</td>\n",
       "    </tr>\n",
       "    <tr>\n",
       "      <th>2020-01-04</th>\n",
       "      <td>1.0</td>\n",
       "      <td>0.014995</td>\n",
       "      <td>0.044986</td>\n",
       "      <td>0.050609</td>\n",
       "      <td>0.053421</td>\n",
       "      <td>0.057170</td>\n",
       "      <td>0.070291</td>\n",
       "      <td>0.054358</td>\n",
       "      <td>0.042174</td>\n",
       "      <td>0.048735</td>\n",
       "      <td>0.047798</td>\n",
       "      <td>0.054358</td>\n",
       "      <td>NaN</td>\n",
       "      <td>NaN</td>\n",
       "      <td>NaN</td>\n",
       "    </tr>\n",
       "    <tr>\n",
       "      <th>2020-01-05</th>\n",
       "      <td>1.0</td>\n",
       "      <td>0.019645</td>\n",
       "      <td>0.044902</td>\n",
       "      <td>0.045837</td>\n",
       "      <td>0.043966</td>\n",
       "      <td>0.047708</td>\n",
       "      <td>0.078578</td>\n",
       "      <td>0.052385</td>\n",
       "      <td>0.039289</td>\n",
       "      <td>0.054256</td>\n",
       "      <td>0.041160</td>\n",
       "      <td>NaN</td>\n",
       "      <td>NaN</td>\n",
       "      <td>NaN</td>\n",
       "      <td>NaN</td>\n",
       "    </tr>\n",
       "    <tr>\n",
       "      <th>2020-01-06</th>\n",
       "      <td>1.0</td>\n",
       "      <td>0.028972</td>\n",
       "      <td>0.044860</td>\n",
       "      <td>0.049533</td>\n",
       "      <td>0.038318</td>\n",
       "      <td>0.046729</td>\n",
       "      <td>0.066355</td>\n",
       "      <td>0.058879</td>\n",
       "      <td>0.052336</td>\n",
       "      <td>0.050467</td>\n",
       "      <td>NaN</td>\n",
       "      <td>NaN</td>\n",
       "      <td>NaN</td>\n",
       "      <td>NaN</td>\n",
       "      <td>NaN</td>\n",
       "    </tr>\n",
       "    <tr>\n",
       "      <th>2020-01-07</th>\n",
       "      <td>1.0</td>\n",
       "      <td>0.018657</td>\n",
       "      <td>0.048507</td>\n",
       "      <td>0.043843</td>\n",
       "      <td>0.064366</td>\n",
       "      <td>0.050373</td>\n",
       "      <td>0.084888</td>\n",
       "      <td>0.051306</td>\n",
       "      <td>0.056903</td>\n",
       "      <td>NaN</td>\n",
       "      <td>NaN</td>\n",
       "      <td>NaN</td>\n",
       "      <td>NaN</td>\n",
       "      <td>NaN</td>\n",
       "      <td>NaN</td>\n",
       "    </tr>\n",
       "    <tr>\n",
       "      <th>2020-01-08</th>\n",
       "      <td>1.0</td>\n",
       "      <td>0.022346</td>\n",
       "      <td>0.040037</td>\n",
       "      <td>0.042831</td>\n",
       "      <td>0.051210</td>\n",
       "      <td>0.050279</td>\n",
       "      <td>0.084730</td>\n",
       "      <td>0.050279</td>\n",
       "      <td>NaN</td>\n",
       "      <td>NaN</td>\n",
       "      <td>NaN</td>\n",
       "      <td>NaN</td>\n",
       "      <td>NaN</td>\n",
       "      <td>NaN</td>\n",
       "      <td>NaN</td>\n",
       "    </tr>\n",
       "    <tr>\n",
       "      <th>2020-01-09</th>\n",
       "      <td>1.0</td>\n",
       "      <td>0.018587</td>\n",
       "      <td>0.039963</td>\n",
       "      <td>0.054833</td>\n",
       "      <td>0.044610</td>\n",
       "      <td>0.060409</td>\n",
       "      <td>0.066914</td>\n",
       "      <td>NaN</td>\n",
       "      <td>NaN</td>\n",
       "      <td>NaN</td>\n",
       "      <td>NaN</td>\n",
       "      <td>NaN</td>\n",
       "      <td>NaN</td>\n",
       "      <td>NaN</td>\n",
       "      <td>NaN</td>\n",
       "    </tr>\n",
       "    <tr>\n",
       "      <th>2020-01-10</th>\n",
       "      <td>1.0</td>\n",
       "      <td>0.019499</td>\n",
       "      <td>0.037140</td>\n",
       "      <td>0.051068</td>\n",
       "      <td>0.042711</td>\n",
       "      <td>0.059424</td>\n",
       "      <td>NaN</td>\n",
       "      <td>NaN</td>\n",
       "      <td>NaN</td>\n",
       "      <td>NaN</td>\n",
       "      <td>NaN</td>\n",
       "      <td>NaN</td>\n",
       "      <td>NaN</td>\n",
       "      <td>NaN</td>\n",
       "      <td>NaN</td>\n",
       "    </tr>\n",
       "    <tr>\n",
       "      <th>2020-01-11</th>\n",
       "      <td>1.0</td>\n",
       "      <td>0.015755</td>\n",
       "      <td>0.038925</td>\n",
       "      <td>0.050973</td>\n",
       "      <td>0.050046</td>\n",
       "      <td>NaN</td>\n",
       "      <td>NaN</td>\n",
       "      <td>NaN</td>\n",
       "      <td>NaN</td>\n",
       "      <td>NaN</td>\n",
       "      <td>NaN</td>\n",
       "      <td>NaN</td>\n",
       "      <td>NaN</td>\n",
       "      <td>NaN</td>\n",
       "      <td>NaN</td>\n",
       "    </tr>\n",
       "    <tr>\n",
       "      <th>2020-01-12</th>\n",
       "      <td>1.0</td>\n",
       "      <td>0.018501</td>\n",
       "      <td>0.045328</td>\n",
       "      <td>0.040703</td>\n",
       "      <td>NaN</td>\n",
       "      <td>NaN</td>\n",
       "      <td>NaN</td>\n",
       "      <td>NaN</td>\n",
       "      <td>NaN</td>\n",
       "      <td>NaN</td>\n",
       "      <td>NaN</td>\n",
       "      <td>NaN</td>\n",
       "      <td>NaN</td>\n",
       "      <td>NaN</td>\n",
       "      <td>NaN</td>\n",
       "    </tr>\n",
       "    <tr>\n",
       "      <th>2020-01-13</th>\n",
       "      <td>1.0</td>\n",
       "      <td>0.019391</td>\n",
       "      <td>0.044321</td>\n",
       "      <td>NaN</td>\n",
       "      <td>NaN</td>\n",
       "      <td>NaN</td>\n",
       "      <td>NaN</td>\n",
       "      <td>NaN</td>\n",
       "      <td>NaN</td>\n",
       "      <td>NaN</td>\n",
       "      <td>NaN</td>\n",
       "      <td>NaN</td>\n",
       "      <td>NaN</td>\n",
       "      <td>NaN</td>\n",
       "      <td>NaN</td>\n",
       "    </tr>\n",
       "    <tr>\n",
       "      <th>2020-01-14</th>\n",
       "      <td>1.0</td>\n",
       "      <td>0.016605</td>\n",
       "      <td>NaN</td>\n",
       "      <td>NaN</td>\n",
       "      <td>NaN</td>\n",
       "      <td>NaN</td>\n",
       "      <td>NaN</td>\n",
       "      <td>NaN</td>\n",
       "      <td>NaN</td>\n",
       "      <td>NaN</td>\n",
       "      <td>NaN</td>\n",
       "      <td>NaN</td>\n",
       "      <td>NaN</td>\n",
       "      <td>NaN</td>\n",
       "      <td>NaN</td>\n",
       "    </tr>\n",
       "    <tr>\n",
       "      <th>2020-01-15</th>\n",
       "      <td>1.0</td>\n",
       "      <td>NaN</td>\n",
       "      <td>NaN</td>\n",
       "      <td>NaN</td>\n",
       "      <td>NaN</td>\n",
       "      <td>NaN</td>\n",
       "      <td>NaN</td>\n",
       "      <td>NaN</td>\n",
       "      <td>NaN</td>\n",
       "      <td>NaN</td>\n",
       "      <td>NaN</td>\n",
       "      <td>NaN</td>\n",
       "      <td>NaN</td>\n",
       "      <td>NaN</td>\n",
       "      <td>NaN</td>\n",
       "    </tr>\n",
       "  </tbody>\n",
       "</table>\n",
       "</div>"
      ],
      "text/plain": [
       "day          0         1         2         3         4         5         6   \\\n",
       "reg_ts                                                                        \n",
       "2020-01-01  1.0  0.026390  0.045240  0.033930  0.056550  0.058435  0.075401   \n",
       "2020-01-02  1.0  0.023518  0.045155  0.051740  0.047977  0.058325  0.077140   \n",
       "2020-01-03  1.0  0.023474  0.033803  0.044131  0.045070  0.068545  0.075117   \n",
       "2020-01-04  1.0  0.014995  0.044986  0.050609  0.053421  0.057170  0.070291   \n",
       "2020-01-05  1.0  0.019645  0.044902  0.045837  0.043966  0.047708  0.078578   \n",
       "2020-01-06  1.0  0.028972  0.044860  0.049533  0.038318  0.046729  0.066355   \n",
       "2020-01-07  1.0  0.018657  0.048507  0.043843  0.064366  0.050373  0.084888   \n",
       "2020-01-08  1.0  0.022346  0.040037  0.042831  0.051210  0.050279  0.084730   \n",
       "2020-01-09  1.0  0.018587  0.039963  0.054833  0.044610  0.060409  0.066914   \n",
       "2020-01-10  1.0  0.019499  0.037140  0.051068  0.042711  0.059424       NaN   \n",
       "2020-01-11  1.0  0.015755  0.038925  0.050973  0.050046       NaN       NaN   \n",
       "2020-01-12  1.0  0.018501  0.045328  0.040703       NaN       NaN       NaN   \n",
       "2020-01-13  1.0  0.019391  0.044321       NaN       NaN       NaN       NaN   \n",
       "2020-01-14  1.0  0.016605       NaN       NaN       NaN       NaN       NaN   \n",
       "2020-01-15  1.0       NaN       NaN       NaN       NaN       NaN       NaN   \n",
       "\n",
       "day               7         8         9         10        11        12  \\\n",
       "reg_ts                                                                   \n",
       "2020-01-01  0.049953  0.044298  0.044298  0.053723  0.065033  0.046183   \n",
       "2020-01-02  0.059266  0.056444  0.052681  0.056444  0.056444  0.045155   \n",
       "2020-01-03  0.054460  0.045070  0.042254  0.052582  0.058216  0.055399   \n",
       "2020-01-04  0.054358  0.042174  0.048735  0.047798  0.054358       NaN   \n",
       "2020-01-05  0.052385  0.039289  0.054256  0.041160       NaN       NaN   \n",
       "2020-01-06  0.058879  0.052336  0.050467       NaN       NaN       NaN   \n",
       "2020-01-07  0.051306  0.056903       NaN       NaN       NaN       NaN   \n",
       "2020-01-08  0.050279       NaN       NaN       NaN       NaN       NaN   \n",
       "2020-01-09       NaN       NaN       NaN       NaN       NaN       NaN   \n",
       "2020-01-10       NaN       NaN       NaN       NaN       NaN       NaN   \n",
       "2020-01-11       NaN       NaN       NaN       NaN       NaN       NaN   \n",
       "2020-01-12       NaN       NaN       NaN       NaN       NaN       NaN   \n",
       "2020-01-13       NaN       NaN       NaN       NaN       NaN       NaN   \n",
       "2020-01-14       NaN       NaN       NaN       NaN       NaN       NaN   \n",
       "2020-01-15       NaN       NaN       NaN       NaN       NaN       NaN   \n",
       "\n",
       "day               13        14  \n",
       "reg_ts                          \n",
       "2020-01-01  0.049010  0.048068  \n",
       "2020-01-02  0.045155       NaN  \n",
       "2020-01-03       NaN       NaN  \n",
       "2020-01-04       NaN       NaN  \n",
       "2020-01-05       NaN       NaN  \n",
       "2020-01-06       NaN       NaN  \n",
       "2020-01-07       NaN       NaN  \n",
       "2020-01-08       NaN       NaN  \n",
       "2020-01-09       NaN       NaN  \n",
       "2020-01-10       NaN       NaN  \n",
       "2020-01-11       NaN       NaN  \n",
       "2020-01-12       NaN       NaN  \n",
       "2020-01-13       NaN       NaN  \n",
       "2020-01-14       NaN       NaN  \n",
       "2020-01-15       NaN       NaN  "
      ]
     },
     "execution_count": 22,
     "metadata": {},
     "output_type": "execute_result"
    }
   ],
   "source": [
    "test"
   ]
  },
  {
   "cell_type": "markdown",
   "metadata": {},
   "source": [
    "## Задание 2. Имеются результаты A/B теста, в котором двум группам пользователей предлагались различные наборы акционных предложений. Известно, что ARPU в тестовой группе выше на 5%, чем в контрольной. При этом в контрольной группе 1928 игроков из 202103 оказались платящими, а в тестовой – 1805 из 202667. Какой набор предложений можно считать лучшим? Какие метрики стоит проанализировать для принятия правильного решения и как?\n",
    "\n",
    "Загрузим stats для проведения т-теста"
   ]
  },
  {
   "cell_type": "code",
   "execution_count": 23,
   "metadata": {},
   "outputs": [],
   "source": [
    "from scipy import stats"
   ]
  },
  {
   "cell_type": "markdown",
   "metadata": {},
   "source": [
    "Загрузим файл с данными"
   ]
  },
  {
   "cell_type": "code",
   "execution_count": 24,
   "metadata": {},
   "outputs": [],
   "source": [
    "file = \"~/shared/problem2.csv\""
   ]
  },
  {
   "cell_type": "code",
   "execution_count": 25,
   "metadata": {},
   "outputs": [],
   "source": [
    "df = pd.read_csv(file, sep=';')"
   ]
  },
  {
   "cell_type": "markdown",
   "metadata": {},
   "source": [
    "Посмотрим на типы данных"
   ]
  },
  {
   "cell_type": "code",
   "execution_count": 26,
   "metadata": {},
   "outputs": [
    {
     "data": {
      "text/plain": [
       "user_id       int64\n",
       "revenue       int64\n",
       "testgroup    object\n",
       "dtype: object"
      ]
     },
     "execution_count": 26,
     "metadata": {},
     "output_type": "execute_result"
    }
   ],
   "source": [
    "df.dtypes"
   ]
  },
  {
   "cell_type": "markdown",
   "metadata": {},
   "source": [
    "Посмотрим на гистограмму распределения значений для обоих групп"
   ]
  },
  {
   "cell_type": "code",
   "execution_count": 27,
   "metadata": {},
   "outputs": [],
   "source": [
    "plt.rcParams['figure.figsize'] = [16, 9]"
   ]
  },
  {
   "cell_type": "code",
   "execution_count": 28,
   "metadata": {},
   "outputs": [
    {
     "data": {
      "text/plain": [
       "<matplotlib.axes._subplots.AxesSubplot at 0x7f7f9626bcc0>"
      ]
     },
     "execution_count": 28,
     "metadata": {},
     "output_type": "execute_result"
    },
    {
     "data": {
      "image/png": "[encoded data removed]",
      "text/plain": [
       "<Figure size 1152x648 with 1 Axes>"
      ]
     },
     "metadata": {
      "needs_background": "light"
     },
     "output_type": "display_data"
    }
   ],
   "source": [
    "df[df.testgroup == 'a'].revenue.hist()"
   ]
  },
  {
   "cell_type": "code",
   "execution_count": 29,
   "metadata": {},
   "outputs": [
    {
     "data": {
      "text/plain": [
       "<matplotlib.axes._subplots.AxesSubplot at 0x7f7f941e0550>"
      ]
     },
     "execution_count": 29,
     "metadata": {},
     "output_type": "execute_result"
    },
    {
     "data": {
      "image/png": "[encoded data removed]",
      "text/plain": [
       "<Figure size 1152x648 with 1 Axes>"
      ]
     },
     "metadata": {
      "needs_background": "light"
     },
     "output_type": "display_data"
    }
   ],
   "source": [
    "df[df.testgroup == 'b'].revenue.hist()"
   ]
  },
  {
   "cell_type": "markdown",
   "metadata": {},
   "source": [
    "Из гистограмм становится понятно что в группе А существуют сильные выбросы, но проанализируем группы более подробно"
   ]
  },
  {
   "cell_type": "markdown",
   "metadata": {},
   "source": [
    "Посмотрим подробно на группу А, количество каждых значений"
   ]
  },
  {
   "cell_type": "code",
   "execution_count": 30,
   "metadata": {},
   "outputs": [
    {
     "data": {
      "text/plain": [
       "0        200175\n",
       "206          18\n",
       "310          18\n",
       "265          17\n",
       "224          17\n",
       "          ...  \n",
       "37379         1\n",
       "37341         1\n",
       "37347         1\n",
       "37407         1\n",
       "37357         1\n",
       "Name: revenue, Length: 269, dtype: int64"
      ]
     },
     "execution_count": 30,
     "metadata": {},
     "output_type": "execute_result"
    }
   ],
   "source": [
    "df[df.testgroup == 'a'].revenue.value_counts()"
   ]
  },
  {
   "cell_type": "code",
   "execution_count": 31,
   "metadata": {},
   "outputs": [
    {
     "data": {
      "text/plain": [
       "count    202103.000000\n",
       "mean         25.413720\n",
       "std         920.768137\n",
       "min           0.000000\n",
       "25%           0.000000\n",
       "50%           0.000000\n",
       "75%           0.000000\n",
       "max       37433.000000\n",
       "Name: revenue, dtype: float64"
      ]
     },
     "execution_count": 31,
     "metadata": {},
     "output_type": "execute_result"
    }
   ],
   "source": [
    "df[(df.testgroup == 'a')].revenue.describe()"
   ]
  },
  {
   "cell_type": "markdown",
   "metadata": {},
   "source": [
    "Видим, что существуют выбросы очень больших значений, и значение 0 составляет львиную долю данных. Посмотрим на распределения без нулевых значений"
   ]
  },
  {
   "cell_type": "code",
   "execution_count": 32,
   "metadata": {},
   "outputs": [
    {
     "data": {
      "text/plain": [
       "<matplotlib.axes._subplots.AxesSubplot at 0x7f7f93d0b080>"
      ]
     },
     "execution_count": 32,
     "metadata": {},
     "output_type": "execute_result"
    },
    {
     "data": {
      "image/png": "[encoded data removed]",
      "text/plain": [
       "<Figure size 1152x648 with 1 Axes>"
      ]
     },
     "metadata": {
      "needs_background": "light"
     },
     "output_type": "display_data"
    }
   ],
   "source": [
    "df[(df.testgroup == 'a') & (df.revenue > 0)].revenue.hist()"
   ]
  },
  {
   "cell_type": "markdown",
   "metadata": {},
   "source": [
    "Посмотрим на данные группы А со значениями выше или равными 1000"
   ]
  },
  {
   "cell_type": "code",
   "execution_count": 33,
   "metadata": {},
   "outputs": [
    {
     "data": {
      "text/plain": [
       "37295    5\n",
       "37302    4\n",
       "37294    4\n",
       "37296    4\n",
       "37297    4\n",
       "        ..\n",
       "37328    1\n",
       "37327    1\n",
       "37325    1\n",
       "37324    1\n",
       "37379    1\n",
       "Name: revenue, Length: 67, dtype: int64"
      ]
     },
     "execution_count": 33,
     "metadata": {},
     "output_type": "execute_result"
    }
   ],
   "source": [
    "df[(df.testgroup == 'a') & (df.revenue >= 1000)].revenue.value_counts()"
   ]
  },
  {
   "cell_type": "code",
   "execution_count": 34,
   "metadata": {},
   "outputs": [
    {
     "data": {
      "text/plain": [
       "123"
      ]
     },
     "execution_count": 34,
     "metadata": {},
     "output_type": "execute_result"
    }
   ],
   "source": [
    "df[(df.testgroup == 'a') & (df.revenue >= 1000)].revenue.count()"
   ]
  },
  {
   "cell_type": "markdown",
   "metadata": {},
   "source": [
    "Теперь на данные группы А со значениями в промежутке от 0 до 1000"
   ]
  },
  {
   "cell_type": "code",
   "execution_count": 35,
   "metadata": {},
   "outputs": [
    {
     "data": {
      "text/plain": [
       "206    18\n",
       "310    18\n",
       "397    17\n",
       "265    17\n",
       "224    17\n",
       "       ..\n",
       "395     4\n",
       "245     2\n",
       "392     2\n",
       "330     2\n",
       "225     2\n",
       "Name: revenue, Length: 201, dtype: int64"
      ]
     },
     "execution_count": 35,
     "metadata": {},
     "output_type": "execute_result"
    }
   ],
   "source": [
    "df[(df.testgroup == 'a') & (df.revenue > 0) & (df.revenue < 1000)].revenue.value_counts()"
   ]
  },
  {
   "cell_type": "code",
   "execution_count": 36,
   "metadata": {},
   "outputs": [
    {
     "data": {
      "text/plain": [
       "count    1805.000000\n",
       "mean      302.458172\n",
       "std        57.914246\n",
       "min       200.000000\n",
       "25%       254.000000\n",
       "50%       305.000000\n",
       "75%       352.000000\n",
       "max       400.000000\n",
       "Name: revenue, dtype: float64"
      ]
     },
     "execution_count": 36,
     "metadata": {},
     "output_type": "execute_result"
    }
   ],
   "source": [
    "df[(df.testgroup == 'a') & (df.revenue > 0) & (df.revenue < 1000)].revenue.describe()"
   ]
  },
  {
   "cell_type": "markdown",
   "metadata": {},
   "source": [
    "По итогам наблюдений можно сделать вывод что в группе А присутствуют 123 значения с сильными выбросами, остальные значения больше нуля лежат в промежутке от 200 до 400, их 1805\n",
    "\n",
    "Далее посмотрим значения группы Б"
   ]
  },
  {
   "cell_type": "code",
   "execution_count": 37,
   "metadata": {},
   "outputs": [
    {
     "data": {
      "text/plain": [
       "count    202667.000000\n",
       "mean         26.751287\n",
       "std         287.324162\n",
       "min           0.000000\n",
       "25%           0.000000\n",
       "50%           0.000000\n",
       "75%           0.000000\n",
       "max        4000.000000\n",
       "Name: revenue, dtype: float64"
      ]
     },
     "execution_count": 37,
     "metadata": {},
     "output_type": "execute_result"
    }
   ],
   "source": [
    "df[(df.testgroup == 'b')].revenue.describe()"
   ]
  },
  {
   "cell_type": "code",
   "execution_count": 38,
   "metadata": {},
   "outputs": [
    {
     "data": {
      "text/plain": [
       "0       200862\n",
       "2003         6\n",
       "3359         5\n",
       "3367         4\n",
       "3410         4\n",
       "         ...  \n",
       "3150         1\n",
       "3022         1\n",
       "2894         1\n",
       "3535         1\n",
       "2114         1\n",
       "Name: revenue, Length: 1209, dtype: int64"
      ]
     },
     "execution_count": 38,
     "metadata": {},
     "output_type": "execute_result"
    }
   ],
   "source": [
    "df[df.testgroup == 'b'].revenue.value_counts()"
   ]
  },
  {
   "cell_type": "markdown",
   "metadata": {},
   "source": [
    "Посмотрим на значения > 0"
   ]
  },
  {
   "cell_type": "code",
   "execution_count": 39,
   "metadata": {},
   "outputs": [
    {
     "data": {
      "text/plain": [
       "<matplotlib.axes._subplots.AxesSubplot at 0x7f7f93c29d30>"
      ]
     },
     "execution_count": 39,
     "metadata": {},
     "output_type": "execute_result"
    },
    {
     "data": {
      "image/png": "[encoded data removed]",
      "text/plain": [
       "<Figure size 1152x648 with 1 Axes>"
      ]
     },
     "metadata": {
      "needs_background": "light"
     },
     "output_type": "display_data"
    }
   ],
   "source": [
    "df[(df.testgroup == 'b') & (df.revenue > 0)].revenue.hist()"
   ]
  },
  {
   "cell_type": "code",
   "execution_count": 40,
   "metadata": {},
   "outputs": [
    {
     "data": {
      "text/plain": [
       "2003    6\n",
       "3359    5\n",
       "2709    4\n",
       "2903    4\n",
       "2225    4\n",
       "       ..\n",
       "3197    1\n",
       "3196    1\n",
       "3186    1\n",
       "3185    1\n",
       "2051    1\n",
       "Name: revenue, Length: 1208, dtype: int64"
      ]
     },
     "execution_count": 40,
     "metadata": {},
     "output_type": "execute_result"
    }
   ],
   "source": [
    "df[(df.testgroup == 'b') & (df.revenue > 0)].revenue.value_counts()"
   ]
  },
  {
   "cell_type": "code",
   "execution_count": 41,
   "metadata": {},
   "outputs": [
    {
     "data": {
      "text/plain": [
       "count    1805.000000\n",
       "mean     3003.658172\n",
       "std       572.619709\n",
       "min      2000.000000\n",
       "25%      2513.000000\n",
       "50%      3022.000000\n",
       "75%      3478.000000\n",
       "max      4000.000000\n",
       "Name: revenue, dtype: float64"
      ]
     },
     "execution_count": 41,
     "metadata": {},
     "output_type": "execute_result"
    }
   ],
   "source": [
    "df[(df.testgroup == 'b') & (df.revenue > 0)].revenue.describe()"
   ]
  },
  {
   "cell_type": "markdown",
   "metadata": {},
   "source": [
    "Мы видим что значений больше нуля в группе Б 1805, располагаются в промежутке от 2000 до 4000\n",
    "\n",
    "\n",
    "Поскольку распределение в группе А имеет сильные выбросы, попробуем сравнить 2 группы, используя тест Манна-Уитни"
   ]
  },
  {
   "cell_type": "code",
   "execution_count": 42,
   "metadata": {},
   "outputs": [
    {
     "data": {
      "text/plain": [
       "MannwhitneyuResult(statistic=20491259376.0, pvalue=0.06269701316074398)"
      ]
     },
     "execution_count": 42,
     "metadata": {},
     "output_type": "execute_result"
    }
   ],
   "source": [
    "stats.mannwhitneyu(df[df.testgroup == 'a'].revenue, df[df.testgroup == 'b'].revenue)"
   ]
  },
  {
   "cell_type": "markdown",
   "metadata": {},
   "source": [
    "p=0.06, и говорит что мы не может отклонить нулевую гипотезу что две группы разные\n",
    "\n",
    "Посмотрим на группу А без выбросов"
   ]
  },
  {
   "cell_type": "code",
   "execution_count": 43,
   "metadata": {},
   "outputs": [
    {
     "data": {
      "text/plain": [
       "count    201980.000000\n",
       "mean          2.702926\n",
       "std          28.985815\n",
       "min           0.000000\n",
       "25%           0.000000\n",
       "50%           0.000000\n",
       "75%           0.000000\n",
       "max         400.000000\n",
       "Name: revenue, dtype: float64"
      ]
     },
     "execution_count": 43,
     "metadata": {},
     "output_type": "execute_result"
    }
   ],
   "source": [
    "df[(df.testgroup == 'a') & (df.revenue < 10000)].revenue.describe()"
   ]
  },
  {
   "cell_type": "markdown",
   "metadata": {},
   "source": [
    "Видим что без значений выброса группа А имеет среднее намного меньше группы Б\n",
    "\n",
    "Проведем т-тест группы Б и А без выбросов. Поскольку выбросов нет, будем использовать стандартный т-тест"
   ]
  },
  {
   "cell_type": "code",
   "execution_count": 44,
   "metadata": {},
   "outputs": [
    {
     "data": {
      "text/plain": [
       "Ttest_indResult(statistic=-37.42623596967759, pvalue=4.912187544972622e-306)"
      ]
     },
     "execution_count": 44,
     "metadata": {},
     "output_type": "execute_result"
    }
   ],
   "source": [
    "stats.ttest_ind(df[(df.testgroup == 'a') & (df.revenue < 10000)].revenue, df[(df.testgroup == 'b')].revenue)"
   ]
  },
  {
   "cell_type": "markdown",
   "metadata": {},
   "source": [
    "Видим что p сильно меньше 0.05, и группы отличаются друг от друга."
   ]
  },
  {
   "cell_type": "markdown",
   "metadata": {},
   "source": [
    "Вывод: Группа А имеет 123 значения, которые очень сильно отличаются от остальных, природа появления которых неизвестна (это может быть ошибка в бд и т.д.). Поэтому логичнее было бы сравнивать группы А и Б без сильных выбросов. В группе Б arpu в разы больше, чем в группе А без выбросов, поэтому набор предложений Б можно считать лучшим"
   ]
  },
  {
   "cell_type": "markdown",
   "metadata": {},
   "source": [
    "## Задание 3. В игре Plants & Gardens каждый месяц проводятся тематические события, ограниченные по времени. В них игроки могут получить уникальные предметы для сада и персонажей, дополнительные монеты или бонусы. Для получения награды требуется пройти ряд уровней за определенное время. С помощью каких метрик можно оценить результаты последнего прошедшего события?"
   ]
  },
  {
   "cell_type": "markdown",
   "metadata": {},
   "source": [
    "Для начала, опредилим метрики, помогающие нам оценить результаты:\n",
    "1. Ид уровня - чтобы знать какой именно уровень проходил игрок\n",
    "2. Дата и время начала прохождения уровня - начало прохождения уровня\n",
    "3. Дата и время окончания прохождения уровня - конец прохождения уровня\n",
    "4. Время на уровень - сколько игрок затратил времени на прохождение уровня, п.2 - п.3\n",
    "5. Ид тематического события, к которому относится прохождение - чтобы отсеивать данные по событию"
   ]
  },
  {
   "cell_type": "markdown",
   "metadata": {},
   "source": [
    "## Предположим, в другом событии мы усложнили механику событий так, что при каждой неудачной попытке выполнения уровня игрок будет откатываться на несколько уровней назад. Изменится ли набор метрик оценки результата? Если да, то как?"
   ]
  },
  {
   "cell_type": "markdown",
   "metadata": {},
   "source": [
    "Можно добавить метрику последнего пройденного уровня, от которого считать куда пользователь будет откатываться при неудачной попытке"
   ]
  },
  {
   "cell_type": "code",
   "execution_count": null,
   "metadata": {},
   "outputs": [],
   "source": []
  }
 ],
 "metadata": {
  "kernelspec": {
   "display_name": "Python 3 (ipykernel)",
   "language": "python",
   "name": "python3"
  },
  "language_info": {
   "codemirror_mode": {
    "name": "ipython",
    "version": 3
   },
   "file_extension": ".py",
   "mimetype": "text/x-python",
   "name": "python",
   "nbconvert_exporter": "python",
   "pygments_lexer": "ipython3",
   "version": "3.10.6"
  }
 },
 "nbformat": 4,
 "nbformat_minor": 4
}
